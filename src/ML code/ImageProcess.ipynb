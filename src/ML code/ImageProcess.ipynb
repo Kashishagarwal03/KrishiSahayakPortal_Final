{
 "cells": [
  {
   "cell_type": "code",
   "execution_count": 21,
   "metadata": {},
   "outputs": [
    {
     "name": "stdout",
     "output_type": "stream",
     "text": [
      " * Serving Flask app '__main__'\n",
      " * Debug mode: off\n"
     ]
    },
    {
     "name": "stderr",
     "output_type": "stream",
     "text": [
      "WARNING: This is a development server. Do not use it in a production deployment. Use a production WSGI server instead.\n",
      " * Running on http://127.0.0.1:5000\n",
      "Press CTRL+C to quit\n"
     ]
    },
    {
     "name": "stdout",
     "output_type": "stream",
     "text": [
      "<FileStorage: '0a11f9e8-7357-48c2-8550-daeae59a1e76___RS_NLB 3588(1).JPG' ('image/jpeg')>\n",
      "<PIL.JpegImagePlugin.JpegImageFile image mode=RGB size=256x256 at 0x219343F6FD0>\n",
      "\u001b[1m1/1\u001b[0m \u001b[32m━━━━━━━━━━━━━━━━━━━━\u001b[0m\u001b[37m\u001b[0m \u001b[1m0s\u001b[0m 366ms/step\n"
     ]
    },
    {
     "name": "stderr",
     "output_type": "stream",
     "text": [
      "127.0.0.1 - - [07/May/2024 17:42:04] \"POST /process_image HTTP/1.1\" 200 -\n"
     ]
    },
    {
     "name": "stdout",
     "output_type": "stream",
     "text": [
      "[[0. 1. 0. 0.]]\n",
      "<FileStorage: '0a11f9e8-7357-48c2-8550-daeae59a1e76___RS_NLB 3588(1).JPG' ('image/jpeg')>\n",
      "<PIL.JpegImagePlugin.JpegImageFile image mode=RGB size=256x256 at 0x219345A9490>\n",
      "\u001b[1m1/1\u001b[0m \u001b[32m━━━━━━━━━━━━━━━━━━━━\u001b[0m\u001b[37m\u001b[0m \u001b[1m0s\u001b[0m 66ms/step\n"
     ]
    },
    {
     "name": "stderr",
     "output_type": "stream",
     "text": [
      "127.0.0.1 - - [07/May/2024 17:43:19] \"POST /process_image HTTP/1.1\" 200 -\n"
     ]
    },
    {
     "name": "stdout",
     "output_type": "stream",
     "text": [
      "[[0. 1. 0. 0.]]\n",
      "<FileStorage: '0a11f9e8-7357-48c2-8550-daeae59a1e76___RS_NLB 3588(1).JPG' ('image/jpeg')>\n",
      "<PIL.JpegImagePlugin.JpegImageFile image mode=RGB size=256x256 at 0x219343F6710>\n",
      "\u001b[1m1/1\u001b[0m \u001b[32m━━━━━━━━━━━━━━━━━━━━\u001b[0m\u001b[37m\u001b[0m \u001b[1m0s\u001b[0m 41ms/step\n"
     ]
    },
    {
     "name": "stderr",
     "output_type": "stream",
     "text": [
      "127.0.0.1 - - [07/May/2024 17:52:48] \"POST /process_image HTTP/1.1\" 200 -\n"
     ]
    },
    {
     "name": "stdout",
     "output_type": "stream",
     "text": [
      "[[0. 1. 0. 0.]]\n",
      "<FileStorage: '0a62fe5a-22db-42e2-bca0-53a8dcfd8129___RS_NLB 0810(1).JPG' ('image/jpeg')>\n",
      "<PIL.JpegImagePlugin.JpegImageFile image mode=RGB size=256x256 at 0x21935964990>\n",
      "\u001b[1m1/1\u001b[0m \u001b[32m━━━━━━━━━━━━━━━━━━━━\u001b[0m\u001b[37m\u001b[0m \u001b[1m0s\u001b[0m 39ms/step\n"
     ]
    },
    {
     "name": "stderr",
     "output_type": "stream",
     "text": [
      "127.0.0.1 - - [07/May/2024 17:53:11] \"POST /process_image HTTP/1.1\" 200 -\n"
     ]
    },
    {
     "name": "stdout",
     "output_type": "stream",
     "text": [
      "[[0. 1. 0. 0.]]\n",
      "<FileStorage: '0b3a35d8-25af-44ae-beed-398f591d5c1b___RS_NLB 0833.JPG' ('image/jpeg')>\n",
      "<PIL.JpegImagePlugin.JpegImageFile image mode=RGB size=256x256 at 0x2193468E650>\n",
      "\u001b[1m1/1\u001b[0m \u001b[32m━━━━━━━━━━━━━━━━━━━━\u001b[0m\u001b[37m\u001b[0m \u001b[1m0s\u001b[0m 37ms/step\n"
     ]
    },
    {
     "name": "stderr",
     "output_type": "stream",
     "text": [
      "127.0.0.1 - - [07/May/2024 17:53:19] \"POST /process_image HTTP/1.1\" 200 -\n"
     ]
    },
    {
     "name": "stdout",
     "output_type": "stream",
     "text": [
      "[[0. 1. 0. 0.]]\n",
      "<FileStorage: '0a2dec45-729b-4825-b814-a73d14e8c7fe___R.S_HL 8211 copy.jpg' ('image/jpeg')>\n",
      "<PIL.JpegImagePlugin.JpegImageFile image mode=RGB size=256x256 at 0x21934324110>\n",
      "\u001b[1m1/1\u001b[0m \u001b[32m━━━━━━━━━━━━━━━━━━━━\u001b[0m\u001b[37m\u001b[0m \u001b[1m0s\u001b[0m 30ms/step\n"
     ]
    },
    {
     "name": "stderr",
     "output_type": "stream",
     "text": [
      "127.0.0.1 - - [07/May/2024 17:53:47] \"POST /process_image HTTP/1.1\" 200 -\n"
     ]
    },
    {
     "name": "stdout",
     "output_type": "stream",
     "text": [
      "[[0. 1. 0. 0.]]\n"
     ]
    }
   ],
   "source": [
    "from flask import Flask, request, jsonify\n",
    "import tensorflow as tf\n",
    "from tensorflow.keras.models import load_model\n",
    "from tensorflow.keras import layers\n",
    "import numpy as np\n",
    "from PIL import Image\n",
    "from io import BytesIO\n",
    "from flask import Flask, request, jsonify\n",
    "from flask_cors import CORS\n",
    "\n",
    "app = Flask(__name__)\n",
    "\n",
    "\n",
    "# Model and preprocessing parameters\n",
    "IMAGE_SIZE = 256\n",
    "# Assuming `model` is your trained Keras model\n",
    "\n",
    "\n",
    "# Load your trained CNN model\n",
    "model = load_model('CNNModel.keras')\n",
    "#model.save('CNNModel.ipynb', save_format='tf')\n",
    "\n",
    "# Define image preprocessing layers\n",
    "resize_and_rescale = tf.keras.Sequential([\n",
    "    layers.Resizing(IMAGE_SIZE, IMAGE_SIZE),\n",
    "    layers.Rescaling(1./255),\n",
    "])\n",
    "CORS(app, resources={r\"/process_image\": {\"origins\": \"http://localhost:3000\"}})\n",
    "\n",
    "\n",
    "# Define a route for processing images\n",
    "@app.route('/process_image', methods=['POST'])\n",
    "\n",
    "def process_image():\n",
    "    # Receive the image file from the request\n",
    "    file = request.files['file']\n",
    "    print(file)\n",
    "    # Read image file\n",
    "    image = Image.open(BytesIO(file.read()))\n",
    "    print(image)\n",
    "    # Preprocess the image (resize and rescale)\n",
    "    image = np.array(image)\n",
    "    image = resize_and_rescale(image)\n",
    "    \n",
    "    # Expand dimensions to match expected input shape of the model\n",
    "    image = np.expand_dims(image, axis=0)\n",
    "    \n",
    "    # Perform prediction using your model\n",
    "    prediction = model.predict(image)\n",
    "    print(prediction)\n",
    "    # Convert prediction to JSON format and return\n",
    "    return jsonify(prediction.tolist())\n",
    "\n",
    "if __name__ == '__main__':\n",
    "    try:\n",
    "        app.run()\n",
    "    except Exception as e:\n",
    "        print(\"An error occurred:\", e)\n",
    "\n"
   ]
  }
 ],
 "metadata": {
  "kernelspec": {
   "display_name": "Python 3",
   "language": "python",
   "name": "python3"
  },
  "language_info": {
   "codemirror_mode": {
    "name": "ipython",
    "version": 3
   },
   "file_extension": ".py",
   "mimetype": "text/x-python",
   "name": "python",
   "nbconvert_exporter": "python",
   "pygments_lexer": "ipython3",
   "version": "3.11.7"
  }
 },
 "nbformat": 4,
 "nbformat_minor": 2
}
